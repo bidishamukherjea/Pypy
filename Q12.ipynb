{
 "cells": [
  {
   "cell_type": "markdown",
   "metadata": {},
   "source": [
    "# Sum\n",
    "\n",
    "The sum tool returns the sum of array elements over a given axis.\n",
    "\n",
    "import numpy\n",
    "\n",
    "my_array = numpy.array([ [1, 2], [3, 4] ])\n",
    "\n",
    "print numpy.sum(my_array, axis = 0)         #Output : [4 6]\n",
    "print numpy.sum(my_array, axis = 1)         #Output : [3 7]\n",
    "print numpy.sum(my_array, axis = None)      #Output : 10\n",
    "print numpy.sum(my_array)                   #Output : 10\n",
    "By default, the axis value is None. Therefore, it performs a sum over all the dimensions of the input array.\n",
    "\n",
    "# Prod\n",
    "\n",
    "The prod tool returns the product of array elements over a given axis.\n",
    "\n",
    "import numpy\n",
    "\n",
    "my_array = numpy.array([ [1, 2], [3, 4] ])\n",
    "\n",
    "print numpy.prod(my_array, axis = 0)            #Output : [3 8]\n",
    "print numpy.prod(my_array, axis = 1)            #Output : [ 2 12]\n",
    "print numpy.prod(my_array, axis = None)         #Output : 24\n",
    "print numpy.prod(my_array)                      #Output : 24\n",
    "By default, the axis value is None. Therefore, it performs the product over all the dimensions of the input array.\n",
    "\n",
    "# Task\n",
    "\n",
    "You are given a 2-D array with dimensions NXM.\n",
    "Your task is to perform the sum tool over axis 0 and then find the product of that result.\n",
    "\n",
    "### Input Format\n",
    "\n",
    "The first line of input contains space separated values of N and M.\n",
    "The next N lines contains M space separated integers.\n",
    "\n",
    "### Output Format\n",
    "\n",
    "Compute the sum along axis 0. Then, print the product of that sum.\n",
    "\n",
    "#### Sample Input\n",
    "\n",
    "2 2\n",
    "1 2\n",
    "3 4\n",
    "#### Sample Output\n",
    "\n",
    "24\n",
    "#### Explanation\n",
    "\n",
    "The sum along axis 0 = [4 6 ]\n",
    "The product of this sum = 24\n",
    "\n"
   ]
  },
  {
   "cell_type": "code",
   "execution_count": null,
   "metadata": {},
   "outputs": [],
   "source": [
    "import numpy\n",
    "n,m = map(int, input().split())\n",
    "\n",
    "arr = numpy.array([input().split() for _ in range(n)], int)\n",
    "\n",
    "print(numpy.prod(numpy.sum(arr, axis=0)))\n",
    "\n"
   ]
  }
 ],
 "metadata": {
  "kernelspec": {
   "display_name": "Python 3",
   "language": "python",
   "name": "python3"
  },
  "language_info": {
   "codemirror_mode": {
    "name": "ipython",
    "version": 3
   },
   "file_extension": ".py",
   "mimetype": "text/x-python",
   "name": "python",
   "nbconvert_exporter": "python",
   "pygments_lexer": "ipython3",
   "version": "3.7.3"
  }
 },
 "nbformat": 4,
 "nbformat_minor": 4
}
