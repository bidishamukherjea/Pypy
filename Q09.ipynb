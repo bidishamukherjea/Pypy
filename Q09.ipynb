{
 "cells": [
  {
   "cell_type": "markdown",
   "metadata": {},
   "source": [
    "# Question\n",
    "Consider a list (list = []). You can perform the following commands:\n",
    "\n",
    "insert i e: Insert integer e at position i.\n",
    "print: Print the list.\n",
    "remove e: Delete the first occurrence of integer e.\n",
    "append e: Insert integer e at the end of the list.\n",
    "sort: Sort the list.\n",
    "pop: Pop the last element from the list.\n",
    "reverse: Reverse the list.\n",
    "Initialize your list and read in the value of n followed by n lines of commands where each command will be of the 7 types listed above. Iterate through each command in order and perform the corresponding operation on your list.\n",
    "\n",
    "### Input Format\n",
    "\n",
    "The first line contains an integer, n, denoting the number of commands.\n",
    "Each line i of the n subsequent lines contains one of the commands described above.\n",
    "\n",
    "### Constraints\n",
    "\n",
    "The elements added to the list must be integers.\n",
    "### Output Format\n",
    "\n",
    "For each command of type print, print the list on a new line.\n",
    "\n",
    "#### Sample Input 0\n",
    "\n",
    "12\n",
    "insert 0 5\n",
    "insert 1 10\n",
    "insert 0 6\n",
    "print\n",
    "remove 6\n",
    "append 9\n",
    "append 1\n",
    "sort\n",
    "print\n",
    "pop\n",
    "reverse\n",
    "print\n",
    "#### Sample Output 0\n",
    "\n",
    "[6, 5, 10]\n",
    "[1, 5, 9, 10]\n",
    "[9, 5, 1]\n"
   ]
  },
  {
   "cell_type": "code",
   "execution_count": null,
   "metadata": {},
   "outputs": [],
   "source": [
    "if __name__ == '__main__':\n",
    "    N = int(input())\n",
    "    x=[]\n",
    "    for _ in range(N):\n",
    "        query, *li = input().split()\n",
    "        \n",
    "        if query in 'insert':\n",
    "            pos, val = map(int,li)\n",
    "            x.insert(pos, val)\n",
    "        elif query in 'print':\n",
    "            print(x)\n",
    "        elif query in 'remove':\n",
    "            temp = list(map(int, li))\n",
    "            x.remove(temp[0])\n",
    "        elif query in 'append':\n",
    "            temp = list(map(int, li))\n",
    "            x.append(temp[0])\n",
    "        elif query in 'sort':\n",
    "            x.sort()\n",
    "        elif query in 'pop':\n",
    "            x.pop()\n",
    "        elif query in 'reverse':\n",
    "            x.reverse()\n"
   ]
  }
 ],
 "metadata": {
  "kernelspec": {
   "display_name": "Python 3",
   "language": "python",
   "name": "python3"
  },
  "language_info": {
   "codemirror_mode": {
    "name": "ipython",
    "version": 3
   },
   "file_extension": ".py",
   "mimetype": "text/x-python",
   "name": "python",
   "nbconvert_exporter": "python",
   "pygments_lexer": "ipython3",
   "version": "3.7.3"
  }
 },
 "nbformat": 4,
 "nbformat_minor": 4
}
