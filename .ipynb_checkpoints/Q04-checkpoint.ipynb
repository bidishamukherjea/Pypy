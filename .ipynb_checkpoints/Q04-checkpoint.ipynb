{
 "cells": [
  {
   "cell_type": "markdown",
   "metadata": {},
   "source": [
    "# Inner\n",
    "\n",
    "The inner tool returns the inner product of two arrays.\n",
    "\n",
    "import numpy\n",
    "\n",
    "A = numpy.array([0, 1])\n",
    "B = numpy.array([3, 4])\n",
    "\n",
    "print numpy.inner(A, B)     #Output : 4\n",
    "# Outer\n",
    "\n",
    "The outer tool returns the outer product of two arrays.\n",
    "\n",
    "import numpy\n",
    "\n",
    "A = numpy.array([0, 1])\n",
    "B = numpy.array([3, 4])\n",
    "\n",
    "print numpy.outer(A, B)     #Output : [[0 0]\n",
    "                #          [3 4]]\n",
    "# Task\n",
    "\n",
    "You are given two arrays: A and B.\n",
    "Your task is to compute their inner and outer product.\n",
    "\n",
    "### Input Format\n",
    "\n",
    "The first line contains the space separated elements of array A.\n",
    "The second line contains the space separated elements of array B.\n",
    "\n",
    "### Output Format\n",
    "\n",
    "First, print the inner product.\n",
    "Second, print the outer product.\n",
    "\n",
    "#### Sample Input\n",
    "\n",
    "0 1\n",
    "2 3\n",
    "#### Sample Output\n",
    "\n",
    "3\n",
    "[[0 0]\n",
    " [2 3]]"
   ]
  },
  {
   "cell_type": "code",
   "execution_count": null,
   "metadata": {},
   "outputs": [],
   "source": [
    "import numpy\n",
    "\n",
    "A = numpy.array(input().split(), int)\n",
    "B = numpy.array(input().split(), int)\n",
    "\n",
    "print(numpy.inner(A,B))\n",
    "print(numpy.outer(A, B))\n"
   ]
  }
 ],
 "metadata": {
  "kernelspec": {
   "display_name": "Python 3",
   "language": "python",
   "name": "python3"
  },
  "language_info": {
   "codemirror_mode": {
    "name": "ipython",
    "version": 3
   },
   "file_extension": ".py",
   "mimetype": "text/x-python",
   "name": "python",
   "nbconvert_exporter": "python",
   "pygments_lexer": "ipython3",
   "version": "3.7.3"
  }
 },
 "nbformat": 4,
 "nbformat_minor": 4
}
