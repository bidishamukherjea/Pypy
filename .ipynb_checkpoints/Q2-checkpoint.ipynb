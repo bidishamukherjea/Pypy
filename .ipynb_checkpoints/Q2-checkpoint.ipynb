{
 "cells": [
  {
   "cell_type": "markdown",
   "metadata": {},
   "source": [
    "dot\n",
    "\n",
    "The dot tool returns the dot product of two arrays.\n",
    "\n",
    "import numpy\n",
    "\n",
    "A = numpy.array([ 1, 2 ])\n",
    "B = numpy.array([ 3, 4 ])\n",
    "\n",
    "print numpy.dot(A, B)       #Output : 11\n",
    "cross\n",
    "\n",
    "The cross tool returns the cross product of two arrays.\n",
    "\n",
    "import numpy\n",
    "\n",
    "A = numpy.array([ 1, 2 ])\n",
    "B = numpy.array([ 3, 4 ])\n",
    "\n",
    "print numpy.cross(A, B)     #Output : -2\n",
    "Task\n",
    "\n",
    "You are given two arrays  and . Both have dimensions of X.\n",
    "Your task is to compute their matrix product.\n",
    "\n",
    "Input Format\n",
    "\n",
    "The first line contains the integer .\n",
    "The next  lines contains  space separated integers of array .\n",
    "The following  lines contains  space separated integers of array .\n",
    "\n",
    "Output Format\n",
    "\n",
    "Print the matrix multiplication of  and .\n",
    "\n",
    "Sample Input\n",
    "\n",
    "2\n",
    "1 2\n",
    "3 4\n",
    "1 2\n",
    "3 4\n",
    "Sample Output\n",
    "\n",
    "[[ 7 10]\n",
    " [15 22]]"
   ]
  },
  {
   "cell_type": "code",
   "execution_count": null,
   "metadata": {},
   "outputs": [],
   "source": [
    "import numpy\n",
    "\n",
    "n = int(input())\n",
    "\n",
    "A = numpy.array([input().split() for _ in range(n)], int)\n",
    "B = numpy.array([input().split() for _ in range(n)], int)\n",
    "\n",
    "print(numpy.dot(A,B))\n",
    "#print(numpy.cross(A,B)) \n"
   ]
  }
 ],
 "metadata": {
  "kernelspec": {
   "display_name": "Python 3",
   "language": "python",
   "name": "python3"
  },
  "language_info": {
   "codemirror_mode": {
    "name": "ipython",
    "version": 3
   },
   "file_extension": ".py",
   "mimetype": "text/x-python",
   "name": "python",
   "nbconvert_exporter": "python",
   "pygments_lexer": "ipython3",
   "version": "3.7.3"
  }
 },
 "nbformat": 4,
 "nbformat_minor": 4
}
