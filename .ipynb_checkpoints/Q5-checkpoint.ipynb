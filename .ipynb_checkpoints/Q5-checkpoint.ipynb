{
 "cells": [
  {
   "cell_type": "markdown",
   "metadata": {},
   "source": [
    "# Poly\n",
    "\n",
    "The poly tool returns the coefficients of a polynomial with the given sequence of roots.\n",
    "\n",
    "print numpy.poly([-1, 1, 1, 10])        #Output : [  1 -11   9  11 -10]\n",
    "# Roots\n",
    "\n",
    "The roots tool returns the roots of a polynomial with the given coefficients.\n",
    "\n",
    "print numpy.roots([1, 0, -1])           #Output : [-1.  1.]\n",
    "# Polyint\n",
    "\n",
    "The polyint tool returns an antiderivative (indefinite integral) of a polynomial.\n",
    "\n",
    "print numpy.polyint([1, 1, 1])          #Output : [ 0.33333333  0.5         1.          0.        ]\n",
    "# Polyder\n",
    "\n",
    "The polyder tool returns the derivative of the specified order of a polynomial.\n",
    "\n",
    "print numpy.polyder([1, 1, 1, 1])       #Output : [3 2 1]\n",
    "# Polyval\n",
    "\n",
    "The polyval tool evaluates the polynomial at specific value.\n",
    "\n",
    "print numpy.polyval([1, -2, 0, 2], 4)   #Output : 34\n",
    "# Polyfit\n",
    "\n",
    "The polyfit tool fits a polynomial of a specified order to a set of data using a least-squares approach.\n",
    "\n",
    "print numpy.polyfit([0,1,-1, 2, -2], [0,1,1, 4, 4], 2)\n",
    "#Output : [  1.00000000e+00   0.00000000e+00  -3.97205465e-16]\n",
    "The functions polyadd, polysub, polymul, and polydiv also handle proper addition, subtraction, multiplication, and division of polynomial coefficients, respectively.\n",
    "\n",
    "# Task\n",
    "\n",
    "You are given the coefficients of a polynomial P.\n",
    "Your task is to find the value of P at point x.\n",
    "\n",
    "### Input Format\n",
    "\n",
    "The first line contains the space separated value of the coefficients in P.\n",
    "The second line contains the value of x.\n",
    "\n",
    "### Output Format\n",
    "\n",
    "Print the desired value.\n",
    "\n",
    "#### Sample Input\n",
    "\n",
    "1.1 2 3\n",
    "0\n",
    "#### Sample Output\n",
    "\n",
    "3.0\n"
   ]
  },
  {
   "cell_type": "code",
   "execution_count": null,
   "metadata": {},
   "outputs": [],
   "source": [
    "import numpy\n",
    "\n",
    "A = numpy.array(input().split(), float)\n",
    "n = int(input())\n",
    "\n",
    "# B = numpy.poly(A)\n",
    "C = numpy.polyval(A,n)\n",
    "print(C)\n"
   ]
  }
 ],
 "metadata": {
  "kernelspec": {
   "display_name": "Python 3",
   "language": "python",
   "name": "python3"
  },
  "language_info": {
   "codemirror_mode": {
    "name": "ipython",
    "version": 3
   },
   "file_extension": ".py",
   "mimetype": "text/x-python",
   "name": "python",
   "nbconvert_exporter": "python",
   "pygments_lexer": "ipython3",
   "version": "3.7.3"
  }
 },
 "nbformat": 4,
 "nbformat_minor": 4
}
