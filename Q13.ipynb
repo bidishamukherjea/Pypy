{
 "cells": [
  {
   "cell_type": "markdown",
   "metadata": {},
   "source": [
    "# Floor\n",
    "The tool floor returns the floor of the input element-wise.\n",
    "The floor of x is the largest integer i where i<=x.\n",
    "\n",
    "import numpy\n",
    "\n",
    "my_array = numpy.array([1.1, 2.2, 3.3, 4.4, 5.5, 6.6, 7.7, 8.8, 9.9])\n",
    "print numpy.floor(my_array)         #[ 1.  2.  3.  4.  5.  6.  7.  8.  9.]\n",
    "# Ceil\n",
    "The tool ceil returns the ceiling of the input element-wise.\n",
    "The ceiling of x is the smallest integer i where i>=x.\n",
    "\n",
    "import numpy\n",
    "\n",
    "my_array = numpy.array([1.1, 2.2, 3.3, 4.4, 5.5, 6.6, 7.7, 8.8, 9.9])\n",
    "print numpy.ceil(my_array)          #[  2.   3.   4.   5.   6.   7.   8.   9.  10.]\n",
    "# Rint\n",
    "The rint tool rounds to the nearest integer of input element-wise.\n",
    "\n",
    "import numpy\n",
    "\n",
    "my_array = numpy.array([1.1, 2.2, 3.3, 4.4, 5.5, 6.6, 7.7, 8.8, 9.9])\n",
    "print numpy.rint(my_array)          #[  1.   2.   3.   4.   6.   7.   8.   9.  10.]\n",
    "# Task\n",
    "You are given a 1-D array, A. Your task is to print the floor,ceil and rint of all the elements of A.\n",
    "\n",
    "### Input Format\n",
    "\n",
    "A single line of input containing the space separated elements of array A.\n",
    "\n",
    "### Output Format\n",
    "\n",
    "On the first line, print the floor of A.\n",
    "On the second line, print the ceil of A.\n",
    "On the third line, print the rint of A.\n",
    "\n",
    "#### Sample Input\n",
    "\n",
    "1.1 2.2 3.3 4.4 5.5 6.6 7.7 8.8 9.9\n",
    "#### Sample Output\n",
    "\n",
    "[ 1.  2.  3.  4.  5.  6.  7.  8.  9.]\n",
    "[  2.   3.   4.   5.   6.   7.   8.   9.  10.]\n",
    "[  1.   2.   3.   4.   6.   7.   8.   9.  10.]\n"
   ]
  },
  {
   "cell_type": "code",
   "execution_count": null,
   "metadata": {},
   "outputs": [],
   "source": [
    "import numpy\n",
    "\n",
    "numpy.set_printoptions(sign=' ')\n",
    "a=numpy.array(input().split(),float)\n",
    "\n",
    "print(numpy.floor(a))\n",
    "print(numpy.ceil(a))\n",
    "print(numpy.rint(a))\n"
   ]
  }
 ],
 "metadata": {
  "kernelspec": {
   "display_name": "Python 3",
   "language": "python",
   "name": "python3"
  },
  "language_info": {
   "codemirror_mode": {
    "name": "ipython",
    "version": 3
   },
   "file_extension": ".py",
   "mimetype": "text/x-python",
   "name": "python",
   "nbconvert_exporter": "python",
   "pygments_lexer": "ipython3",
   "version": "3.7.3"
  }
 },
 "nbformat": 4,
 "nbformat_minor": 4
}
